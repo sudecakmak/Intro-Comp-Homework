{
  "nbformat": 4,
  "nbformat_minor": 0,
  "metadata": {
    "colab": {
      "name": "152120201044_Sude_Çakmak.ipynb",
      "provenance": []
    },
    "kernelspec": {
      "name": "python3",
      "display_name": "Python 3"
    }
  },
  "cells": [
    {
      "cell_type": "code",
      "metadata": {
        "id": "HglT_iV7ykNI"
      },
      "source": [
        "def my_function1():\r\n",
        "  factorial=1\r\n",
        "  for i in range(num):\r\n",
        "    factorial=factorial*(i+1)\r\n",
        "  print(factorial)\r\n",
        "\r\n",
        "num=int(input())\r\n",
        "\r\n",
        "my_function1()"
      ],
      "execution_count": null,
      "outputs": []
    },
    {
      "cell_type": "code",
      "metadata": {
        "id": "R6J2meOryx37"
      },
      "source": [
        "def my_function2():\r\n",
        "  x = input().split(\",\")\r\n",
        "  a = list(x)\r\n",
        "  x = tuple(a)\r\n",
        "  print(a)\r\n",
        "  print(x)\r\n",
        " \r\n",
        "my_function2()"
      ],
      "execution_count": null,
      "outputs": []
    },
    {
      "cell_type": "code",
      "metadata": {
        "id": "WeZ2k96RyyEK"
      },
      "source": [
        "def my_function3():\r\n",
        "  if y[0]==y[-1]:\r\n",
        "    print(True) \r\n",
        "  else:\r\n",
        "    print(False) \r\n",
        "  \r\n",
        "y = [int(y) for y in input().split(\",\")]\r\n",
        "\r\n",
        "my_function3()"
      ],
      "execution_count": null,
      "outputs": []
    },
    {
      "cell_type": "code",
      "metadata": {
        "id": "N-JYeDx1yyQe"
      },
      "source": [
        "def my_function4():\r\n",
        "  z = [int(z) for z in input().split(\",\")]\r\n",
        "  for z in z:\r\n",
        "    if (z%5==0):\r\n",
        "      print(z)\r\n",
        "      print('\\t')\r\n",
        "\r\n",
        "my_function4()"
      ],
      "execution_count": null,
      "outputs": []
    }
  ]
}